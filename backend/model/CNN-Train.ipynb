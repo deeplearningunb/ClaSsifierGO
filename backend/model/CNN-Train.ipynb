{
 "cells": [
  {
   "cell_type": "markdown",
   "metadata": {},
   "source": [
    "# Carregamento dos dados"
   ]
  },
  {
   "cell_type": "code",
   "execution_count": 63,
   "metadata": {},
   "outputs": [],
   "source": [
    "import os\n",
    "import random\n",
    "import numpy as np\n",
    "from tensorflow.keras.preprocessing.image import img_to_array, load_img"
   ]
  },
  {
   "cell_type": "markdown",
   "metadata": {},
   "source": [
    "## Mapas e diretório onde os arquivos estao localizados"
   ]
  },
  {
   "cell_type": "code",
   "execution_count": 64,
   "metadata": {},
   "outputs": [],
   "source": [
    "LABELS = [\"Inferno\", \"Mirage\", \"Train\", \"Vertigo\"]\n",
    "DIR = \"backend/model/data/Mapas\""
   ]
  },
  {
   "cell_type": "markdown",
   "metadata": {},
   "source": [
    "## Preparação das imagens para o treinamento"
   ]
  },
  {
   "cell_type": "code",
   "execution_count": 65,
   "metadata": {},
   "outputs": [],
   "source": [
    "def image_prep(dir, labels, size=(100, 100)):\n",
    "    data = []\n",
    "    for mapa in labels:\n",
    "        path = f\"{dir}\\\\{mapa}\"\n",
    "        index = labels.index(mapa)\n",
    "\n",
    "        for image_name in os.listdir(path):\n",
    "            img_path = f'{path}/{image_name}'\n",
    "            img_loaded = load_img(img_path, color_mode=\"rgb\",\n",
    "                                  target_size=size)\n",
    "            img_arr = img_to_array(img_loaded)\n",
    "            data.append([img_arr, index])\n",
    "    return data\n",
    "\n",
    "\n",
    "path = os.getcwd()\n",
    "dir_maps = path + '\\\\data\\\\Mapas' \n",
    "data = image_prep(dir_maps, LABELS)"
   ]
  },
  {
   "cell_type": "markdown",
   "metadata": {},
   "source": [
    "## Aleatorização da base de dados"
   ]
  },
  {
   "cell_type": "code",
   "execution_count": 66,
   "metadata": {},
   "outputs": [
    {
     "name": "stdout",
     "output_type": "stream",
     "text": [
      "3\n",
      "0\n",
      "2\n",
      "3\n",
      "2\n",
      "1\n",
      "3\n",
      "2\n",
      "1\n",
      "2\n"
     ]
    }
   ],
   "source": [
    "# Funções mais recentes do tensorflow fazem isso por si só\n",
    "random.seed(3705)\n",
    "random.shuffle(data)\n",
    "for amostra in data[:10]:\n",
    "    print(amostra[1])"
   ]
  },
  {
   "cell_type": "code",
   "execution_count": 67,
   "metadata": {},
   "outputs": [],
   "source": [
    "# Conversão dos dados para numpy array\n",
    "def sep_Xy(data):\n",
    "    X = []\n",
    "    y = []\n",
    "    for feature, label in data:\n",
    "        X.append(feature)\n",
    "        y.append(label)\n",
    "    X = np.array(X)\n",
    "    y = np.array(y)\n",
    "    return (X, y)\n",
    "\n",
    "X, y = sep_Xy(data)\n",
    "X = X/255.0"
   ]
  },
  {
   "cell_type": "markdown",
   "metadata": {},
   "source": [
    "# Treinamento do Modelo"
   ]
  },
  {
   "cell_type": "code",
   "execution_count": 68,
   "metadata": {},
   "outputs": [],
   "source": [
    "from tensorflow.keras import callbacks\n",
    "from tensorflow.keras.models import Sequential\n",
    "from tensorflow.keras.layers import Dense, Conv2D, Flatten, Dropout, MaxPooling2D, BatchNormalization\n",
    "from tensorflow.keras.layers import Rescaling, RandomFlip, RandomRotation, RandomZoom\n",
    "from tensorflow.keras.callbacks import ModelCheckpoint\n",
    "from tensorflow.keras.utils import plot_model\n",
    "from tensorflow.keras.optimizers import Adam"
   ]
  },
  {
   "cell_type": "markdown",
   "metadata": {},
   "source": [
    "## Data augmentation"
   ]
  },
  {
   "cell_type": "code",
   "execution_count": 69,
   "metadata": {},
   "outputs": [],
   "source": [
    "data_augmentation = Sequential([\n",
    "    RandomFlip(\"horizontal\"),\n",
    "    RandomRotation(0.1),\n",
    "    RandomZoom(.2, .2)\n",
    "])"
   ]
  },
  {
   "cell_type": "code",
   "execution_count": 70,
   "metadata": {},
   "outputs": [],
   "source": [
    "model = Sequential([\n",
    "    data_augmentation\n",
    "    ]\n",
    ")"
   ]
  },
  {
   "cell_type": "markdown",
   "metadata": {},
   "source": [
    "## Camadas convulucionais"
   ]
  },
  {
   "cell_type": "code",
   "execution_count": 71,
   "metadata": {},
   "outputs": [],
   "source": [
    "model.add(Conv2D(16, (3, 3),\n",
    "                 activation='relu',\n",
    "                 input_shape=X.shape[1:]))\n",
    "model.add(MaxPooling2D(pool_size=(2, 2)))\n",
    "model.add(Dropout(0.1))\n",
    "\n",
    "model.add(Conv2D(16, (3, 3),\n",
    "                 activation='relu'))\n",
    "model.add(MaxPooling2D(pool_size=(2, 2)))\n",
    "\n",
    "model.add(Conv2D(16, (3, 3),\n",
    "                 activation='relu'))\n",
    "model.add(MaxPooling2D(pool_size=(2, 2)))"
   ]
  },
  {
   "cell_type": "markdown",
   "metadata": {},
   "source": [
    "## Camada da tranformação"
   ]
  },
  {
   "cell_type": "code",
   "execution_count": 72,
   "metadata": {},
   "outputs": [],
   "source": [
    "model.add(Flatten())"
   ]
  },
  {
   "cell_type": "markdown",
   "metadata": {},
   "source": [
    "## Camada de Output"
   ]
  },
  {
   "cell_type": "code",
   "execution_count": 73,
   "metadata": {},
   "outputs": [],
   "source": [
    "model.add(Dense(len(LABELS), activation='softmax'))"
   ]
  },
  {
   "cell_type": "markdown",
   "metadata": {},
   "source": [
    "## Compilação do Modelo"
   ]
  },
  {
   "cell_type": "code",
   "execution_count": 74,
   "metadata": {},
   "outputs": [],
   "source": [
    "model.compile(loss=\"sparse_categorical_crossentropy\",\n",
    "              optimizer=\"adam\",\n",
    "              metrics=[\"accuracy\"])"
   ]
  },
  {
   "cell_type": "markdown",
   "metadata": {},
   "source": [
    "## Treinamento e salvamento"
   ]
  },
  {
   "cell_type": "code",
   "execution_count": 75,
   "metadata": {},
   "outputs": [
    {
     "name": "stdout",
     "output_type": "stream",
     "text": [
      "Epoch 1/25\n",
      "43/43 [==============================] - 5s 89ms/step - loss: 1.3528 - accuracy: 0.3189 - val_loss: 1.2716 - val_accuracy: 0.4513\n",
      "Epoch 2/25\n",
      "43/43 [==============================] - 4s 84ms/step - loss: 1.2149 - accuracy: 0.4225 - val_loss: 1.1132 - val_accuracy: 0.4779\n",
      "Epoch 3/25\n",
      "43/43 [==============================] - 3s 74ms/step - loss: 1.0657 - accuracy: 0.5311 - val_loss: 1.0840 - val_accuracy: 0.4602\n",
      "Epoch 4/25\n",
      "43/43 [==============================] - 3s 73ms/step - loss: 1.0452 - accuracy: 0.5410 - val_loss: 1.0436 - val_accuracy: 0.4956\n",
      "Epoch 5/25\n",
      "43/43 [==============================] - 4s 83ms/step - loss: 0.9737 - accuracy: 0.5972 - val_loss: 0.9909 - val_accuracy: 0.5664\n",
      "Epoch 6/25\n",
      "43/43 [==============================] - 3s 71ms/step - loss: 0.9188 - accuracy: 0.6180 - val_loss: 0.9821 - val_accuracy: 0.5398\n",
      "Epoch 7/25\n",
      "43/43 [==============================] - 3s 72ms/step - loss: 0.8965 - accuracy: 0.6140 - val_loss: 0.9096 - val_accuracy: 0.6283\n",
      "Epoch 8/25\n",
      "43/43 [==============================] - 3s 78ms/step - loss: 0.8606 - accuracy: 0.6397 - val_loss: 0.9346 - val_accuracy: 0.6283\n",
      "Epoch 9/25\n",
      "43/43 [==============================] - 4s 84ms/step - loss: 0.8237 - accuracy: 0.6782 - val_loss: 0.9186 - val_accuracy: 0.6106\n",
      "Epoch 10/25\n",
      "43/43 [==============================] - 3s 77ms/step - loss: 0.7875 - accuracy: 0.6930 - val_loss: 0.7928 - val_accuracy: 0.6903\n",
      "Epoch 11/25\n",
      "43/43 [==============================] - 4s 84ms/step - loss: 0.7770 - accuracy: 0.6811 - val_loss: 0.7782 - val_accuracy: 0.6814\n",
      "Epoch 12/25\n",
      "43/43 [==============================] - 3s 80ms/step - loss: 0.7419 - accuracy: 0.7187 - val_loss: 0.7869 - val_accuracy: 0.6903\n",
      "Epoch 13/25\n",
      "43/43 [==============================] - 4s 84ms/step - loss: 0.7481 - accuracy: 0.6920 - val_loss: 0.7295 - val_accuracy: 0.7345\n",
      "Epoch 14/25\n",
      "43/43 [==============================] - 3s 81ms/step - loss: 0.7104 - accuracy: 0.7266 - val_loss: 0.8223 - val_accuracy: 0.6549\n",
      "Epoch 15/25\n",
      "43/43 [==============================] - 3s 77ms/step - loss: 0.6514 - accuracy: 0.7364 - val_loss: 0.6921 - val_accuracy: 0.7522\n",
      "Epoch 16/25\n",
      "43/43 [==============================] - 4s 84ms/step - loss: 0.6783 - accuracy: 0.7394 - val_loss: 0.7885 - val_accuracy: 0.6814\n",
      "Epoch 17/25\n",
      "43/43 [==============================] - 3s 80ms/step - loss: 0.6737 - accuracy: 0.7404 - val_loss: 0.8383 - val_accuracy: 0.6903\n",
      "Epoch 18/25\n",
      "43/43 [==============================] - 3s 75ms/step - loss: 0.6659 - accuracy: 0.7463 - val_loss: 0.8188 - val_accuracy: 0.6991\n",
      "Epoch 19/25\n",
      "43/43 [==============================] - 3s 74ms/step - loss: 0.6480 - accuracy: 0.7532 - val_loss: 0.8729 - val_accuracy: 0.6460\n",
      "Epoch 20/25\n",
      "43/43 [==============================] - 3s 75ms/step - loss: 0.6552 - accuracy: 0.7453 - val_loss: 0.8407 - val_accuracy: 0.6991\n",
      "Epoch 21/25\n",
      "43/43 [==============================] - 3s 74ms/step - loss: 0.6251 - accuracy: 0.7562 - val_loss: 0.9582 - val_accuracy: 0.6726\n",
      "Epoch 22/25\n",
      "43/43 [==============================] - 3s 73ms/step - loss: 0.5960 - accuracy: 0.7572 - val_loss: 0.7165 - val_accuracy: 0.7257\n",
      "Epoch 23/25\n",
      "43/43 [==============================] - 3s 75ms/step - loss: 0.5879 - accuracy: 0.7878 - val_loss: 0.6749 - val_accuracy: 0.7611\n",
      "Epoch 24/25\n",
      "43/43 [==============================] - 3s 77ms/step - loss: 0.5817 - accuracy: 0.7947 - val_loss: 0.6999 - val_accuracy: 0.7434\n",
      "Epoch 25/25\n",
      "43/43 [==============================] - 3s 76ms/step - loss: 0.5589 - accuracy: 0.7957 - val_loss: 0.7230 - val_accuracy: 0.7257\n"
     ]
    },
    {
     "data": {
      "text/plain": [
       "<keras.callbacks.History at 0x2922f7ae048>"
      ]
     },
     "execution_count": 75,
     "metadata": {},
     "output_type": "execute_result"
    }
   ],
   "source": [
    "# Salva o modelo na epoch de menor val_accuracy\n",
    "callbacks = [\n",
    "    ModelCheckpoint(\n",
    "        filepath=\"model.h5\",\n",
    "        monitor=\"val_accuracy\",\n",
    "        save_best_only=True)\n",
    "]\n",
    "\n",
    "model.fit(X, y,\n",
    "          batch_size=24, epochs=25,\n",
    "          validation_split=0.1,\n",
    "          callbacks=callbacks)"
   ]
  },
  {
   "cell_type": "markdown",
   "metadata": {},
   "source": [
    "## Gráfico ilustrativo do modelo"
   ]
  },
  {
   "cell_type": "code",
   "execution_count": 76,
   "metadata": {},
   "outputs": [
    {
     "data": {
      "image/png": "[encoded data removed]",
      "text/plain": [
       "<IPython.core.display.Image object>"
      ]
     },
     "execution_count": 76,
     "metadata": {},
     "output_type": "execute_result"
    }
   ],
   "source": [
    "plot_model(model, show_shapes=True, to_file=\"model.png\")"
   ]
  },
  {
   "cell_type": "markdown",
   "metadata": {},
   "source": [
    "# Previsão unitária"
   ]
  },
  {
   "cell_type": "code",
   "execution_count": 77,
   "metadata": {},
   "outputs": [],
   "source": [
    "from tensorflow.keras.preprocessing.image import load_img, img_to_array\n",
    "from tensorflow.keras.models import load_model\n",
    "import tensorflow as tf"
   ]
  },
  {
   "cell_type": "code",
   "execution_count": 78,
   "metadata": {},
   "outputs": [],
   "source": [
    "def prepare(filepath):\n",
    "    IMG_SIZE = 100\n",
    "    img = load_img(filepath,\n",
    "                   color_mode=\"rgb\",\n",
    "                   target_size=(IMG_SIZE, IMG_SIZE))\n",
    "    img_array = img_to_array(img) / 255.0\n",
    "    img_array = tf.expand_dims(img_array, 0)\n",
    "    return img_array"
   ]
  },
  {
   "cell_type": "code",
   "execution_count": 79,
   "metadata": {},
   "outputs": [],
   "source": [
    "model = load_model(\"model.h5\")"
   ]
  },
  {
   "cell_type": "code",
   "execution_count": 87,
   "metadata": {},
   "outputs": [],
   "source": [
    "imagem = prepare(f\"{path}\\\\data\\\\inferno(243).png\")\n",
    "\n",
    "prediction = model.predict(imagem)[0]\n",
    "prediction = prediction*100\n",
    "prediction = [round(prob, 2) for prob in prediction]"
   ]
  },
  {
   "cell_type": "code",
   "execution_count": 88,
   "metadata": {},
   "outputs": [
    {
     "name": "stdout",
     "output_type": "stream",
     "text": [
      "{'Inferno': 90.01, 'Mirage': 0.0, 'Train': 0.0, 'Vertigo': 9.99}\n"
     ]
    }
   ],
   "source": [
    "Resultado = {LABELS[prob]: prediction[prob] for prob in range(len(prediction))}\n",
    "\n",
    "print(Resultado)"
   ]
  }
 ],
 "metadata": {
  "interpreter": {
   "hash": "2fab535bed36744dba169bfe83c7a8eb11bab484a7b8ec3f5512fe8e79d7c44f"
  },
  "kernelspec": {
   "display_name": "Python 3.7.9 64-bit",
   "name": "python3"
  },
  "language_info": {
   "codemirror_mode": {
    "name": "ipython",
    "version": 3
   },
   "file_extension": ".py",
   "mimetype": "text/x-python",
   "name": "python",
   "nbconvert_exporter": "python",
   "pygments_lexer": "ipython3",
   "version": "3.7.9"
  },
  "orig_nbformat": 4
 },
 "nbformat": 4,
 "nbformat_minor": 2
}
